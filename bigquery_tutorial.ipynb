{
 "cells": [
  {
   "cell_type": "markdown",
   "metadata": {},
   "source": [
    "# BigQuery Data Analysis\n",
    "\n",
    "This notebook demonstrates how to connect to Google BigQuery, run queries, and export data as CSV."
   ]
  },
  {
   "cell_type": "markdown",
   "metadata": {},
   "source": [
    "## 1. Setup and Authentication"
   ]
  },
  {
   "cell_type": "code",
   "execution_count": null,
   "metadata": {},
   "outputs": [],
   "source": [
    "import os\n",
    "import pandas as pd\n",
    "from google.cloud import bigquery\n",
    "from google.oauth2 import service_account"
   ]
  },
  {
   "cell_type": "code",
   "execution_count": null,
   "metadata": {},
   "outputs": [],
   "source": [
    "# Option 1: Using service account key file\n",
    "# Place your service account JSON file in the project directory\n",
    "# and update the path below\n",
    "\n",
    "# credentials = service_account.Credentials.from_service_account_file(\n",
    "#     'path/to/your/service-account-key.json'\n",
    "# )\n",
    "\n",
    "# Option 2: Using environment variable\n",
    "# Set GOOGLE_APPLICATION_CREDENTIALS environment variable to your JSON key path\n",
    "# os.environ['GOOGLE_APPLICATION_CREDENTIALS'] = 'path/to/your/service-account-key.json'\n",
    "\n",
    "# Initialize BigQuery client\n",
    "# client = bigquery.Client(credentials=credentials, project='your-project-id')\n",
    "# OR if using environment variable:\n",
    "# client = bigquery.Client()"
   ]
  },
  {
   "cell_type": "markdown",
   "metadata": {},
   "source": [
    "## 2. Running Queries"
   ]
  },
  {
   "cell_type": "code",
   "execution_count": null,
   "metadata": {},
   "outputs": [],
   "source": [
    "# Example query - replace with your actual query\n",
    "query = \"\"\"\n",
    "    SELECT \n",
    "        column1,\n",
    "        column2,\n",
    "        COUNT(*) as count\n",
    "    FROM \n",
    "        `your-project.dataset.table`\n",
    "    WHERE \n",
    "        date >= '2024-01-01'\n",
    "    GROUP BY \n",
    "        column1, column2\n",
    "    ORDER BY \n",
    "        count DESC\n",
    "    LIMIT 1000\n",
    "\"\"\"\n",
    "\n",
    "# Run the query and convert to pandas DataFrame\n",
    "# df = client.query(query).to_dataframe()\n",
    "\n",
    "# Display first few rows\n",
    "# df.head()"
   ]
  },
  {
   "cell_type": "markdown",
   "metadata": {},
   "source": [
    "## 3. Data Exploration"
   ]
  },
  {
   "cell_type": "code",
   "execution_count": null,
   "metadata": {},
   "outputs": [],
   "source": [
    "# Basic data exploration\n",
    "# print(f\"Dataset shape: {df.shape}\")\n",
    "# print(f\"\\nColumn types:\")\n",
    "# print(df.dtypes)\n",
    "# print(f\"\\nBasic statistics:\")\n",
    "# df.describe()"
   ]
  },
  {
   "cell_type": "markdown",
   "metadata": {},
   "source": [
    "## 4. Export to CSV"
   ]
  },
  {
   "cell_type": "code",
   "execution_count": null,
   "metadata": {},
   "outputs": [],
   "source": [
    "# Create data directory if it doesn't exist\n",
    "os.makedirs('data', exist_ok=True)\n",
    "\n",
    "# Export to CSV\n",
    "# output_file = 'data/query_results.csv'\n",
    "# df.to_csv(output_file, index=False)\n",
    "# print(f\"Data exported to {output_file}\")"
   ]
  },
  {
   "cell_type": "markdown",
   "metadata": {},
   "source": [
    "## 5. Advanced Query with Parameters"
   ]
  },
  {
   "cell_type": "code",
   "execution_count": null,
   "metadata": {},
   "outputs": [],
   "source": [
    "# Using query parameters for safer queries\n",
    "from datetime import datetime\n",
    "\n",
    "# Define parameters\n",
    "start_date = datetime(2024, 1, 1)\n",
    "limit = 1000\n",
    "\n",
    "# Parameterized query\n",
    "param_query = \"\"\"\n",
    "    SELECT *\n",
    "    FROM `your-project.dataset.table`\n",
    "    WHERE date >= @start_date\n",
    "    LIMIT @limit\n",
    "\"\"\"\n",
    "\n",
    "# Configure query parameters\n",
    "job_config = bigquery.QueryJobConfig(\n",
    "    query_parameters=[\n",
    "        bigquery.ScalarQueryParameter(\"start_date\", \"DATE\", start_date),\n",
    "        bigquery.ScalarQueryParameter(\"limit\", \"INT64\", limit),\n",
    "    ]\n",
    ")\n",
    "\n",
    "# Run parameterized query\n",
    "# df_param = client.query(param_query, job_config=job_config).to_dataframe()"
   ]
  },
  {
   "cell_type": "markdown",
   "metadata": {},
   "source": [
    "## Helper Functions"
   ]
  },
  {
   "cell_type": "code",
   "execution_count": null,
   "metadata": {},
   "outputs": [],
   "source": [
    "def run_query_to_csv(client, query, output_filename, chunk_size=None):\n",
    "    \"\"\"\n",
    "    Run a BigQuery query and save results to CSV.\n",
    "    \n",
    "    Args:\n",
    "        client: BigQuery client instance\n",
    "        query: SQL query string\n",
    "        output_filename: Path for output CSV file\n",
    "        chunk_size: If specified, write in chunks (useful for large datasets)\n",
    "    \"\"\"\n",
    "    print(f\"Running query...\")\n",
    "    query_job = client.query(query)\n",
    "    \n",
    "    if chunk_size:\n",
    "        # For very large datasets, write in chunks\n",
    "        print(f\"Writing to {output_filename} in chunks of {chunk_size}...\")\n",
    "        for i, chunk in enumerate(query_job.to_dataframe_iterable(max_results=chunk_size)):\n",
    "            mode = 'w' if i == 0 else 'a'\n",
    "            header = i == 0\n",
    "            chunk.to_csv(output_filename, mode=mode, header=header, index=False)\n",
    "            print(f\"Written chunk {i+1}\")\n",
    "    else:\n",
    "        # For smaller datasets, load all at once\n",
    "        df = query_job.to_dataframe()\n",
    "        df.to_csv(output_filename, index=False)\n",
    "        print(f\"Query complete. {len(df)} rows saved to {output_filename}\")\n",
    "    \n",
    "    return output_filename"
   ]
  }
 ],
 "metadata": {
  "kernelspec": {
   "display_name": "Python 3",
   "language": "python",
   "name": "python3"
  },
  "language_info": {
   "codemirror_mode": {
    "name": "ipython",
    "version": 3
   },
   "file_extension": ".py",
   "mimetype": "text/x-python",
   "name": "python",
   "nbconvert_exporter": "python",
   "pygments_lexer": "ipython3",
   "version": "3.12.0"
  }
 },
 "nbformat": 4,
 "nbformat_minor": 4
}